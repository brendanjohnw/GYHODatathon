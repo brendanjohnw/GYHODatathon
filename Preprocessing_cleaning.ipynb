{
 "cells": [
  {
   "cell_type": "code",
   "execution_count": 8,
   "outputs": [
    {
     "data": {
      "text/plain": "                   Created                Date  \\\n0     8/27/2020 4:42:25 PM  8/27/2020 16:42:24   \n1     8/27/2020 5:22:49 PM  8/27/2020 17:22:33   \n2     8/27/2020 5:50:18 PM  8/27/2020 17:50:17   \n3     8/27/2020 8:12:22 PM  8/27/2020 20:12:19   \n4     8/27/2020 8:14:38 PM  8/27/2020 20:14:36   \n...                    ...                 ...   \n3449          2/9/21 12:53        2/9/21 12:53   \n3450           2/9/21 0:39         2/9/21 0:39   \n3451          2/9/21 16:46        2/9/21 16:46   \n3452          3/9/21 19:49        3/9/21 19:49   \n3453          7/9/21 11:47        7/9/21 11:46   \n\n                                             Touchpoint  Rating  \\\n0                       &lt;item&gt;Branch&lt;/item&gt;       7   \n1     &lt;item&gt;ATM, Cash Deposit Machines&lt;/ite...       6   \n2     &lt;item&gt;RHB Mobile Banking Application&lt;...       6   \n3     &lt;item&gt;Branch&lt;/item&gt;&lt;item&gt;ATM...      10   \n4         &lt;item&gt;RHB Internet Banking&lt;/item&gt;       5   \n...                                                 ...     ...   \n3449  &lt;item&gt;Branch&lt;/item&gt;&lt;item&gt;Cal...       6   \n3450      &lt;item&gt;RHB Internet Banking&lt;/item&gt;       0   \n3451      &lt;item&gt;RHB Internet Banking&lt;/item&gt;       7   \n3452  &lt;item&gt;Branch&lt;/item&gt;&lt;item&gt;Cal...       7   \n3453  &lt;item&gt;Branch&lt;/item&gt;&lt;item&gt;Cal...       0   \n\n                                               Verbatim  \\\n0       Talian careline susah dijawab, harus diperbaiki   \n1                    Tiada Atm atau RHB di Jasin Melaka   \n2                                    Up grade your APPS   \n3     Mengekalkan perkhidmatan seperti sekarang dan ...   \n4     hope can improve MOBILE app factions or link b...   \n...                                                 ...   \n3449  branch staff have to be responsive on phone ca...   \n3450  customer.service@rhbgroup.com and customer.adv...   \n3451  Higher interest rate at times when rakyat need...   \n3452  Card does not support 36 months instalment zer...   \n3453  Reply or return call to customer inquiry. Repl...   \n\n                                         Preferred Bank      Product  \\\n0                                                   RHB         CASA   \n1                                               Maybank         CASA   \n2                                      Affin Bank CIMB          CASA   \n3                        Rhb bank di petaling jaya ss2.         CASA   \n4                                             ocbc pub          CASA   \n...                                                 ...          ...   \n3449                                            Maybank         CASA   \n3450                                 Definitely not RHB     Mortgage   \n3451                                        Public Bank           FD   \n3452  Maybank and public bank for local bank HSBC fo...  Credit Card   \n3453                      PBB, HLB, UOB, SCB except RHB  Credit Card   \n\n                                               Feedback  \\\n0     Careline lines are difficult to answer, should...   \n1                         No ATM or RHB in Jasin Melaka   \n2                                    Up Grade Your Apps   \n3     Maintaining Services Like Now and Gift Somethi...   \n4     HOPE CAN IMPROVE MOBILE APP FACTIONS OR LINK B...   \n...                                                 ...   \n3449  BRANCH STAFF HAVE TO BE RESPONSIVE ON PHONE CA...   \n3450  Customer.Service@rhbgroup.com and customer.adv...   \n3451  Higher Interest Rate at Times WHEN PEOPLE NEED...   \n3452  Card Does Not Support 36 Months Installment Ze...   \n3453  Reply or Return Call to Customer Inquiry. Repl...   \n\n                                        ID  \n0     bedba74e-1c23-4772-9ca9-6bf81bd1b27f  \n1     e170ee8d-1287-4f22-b597-c1f2d2b3e2cc  \n2     feb9fc8d-15c3-407b-961a-e1f09677f3d0  \n3     22990519-8eb0-4a16-9e07-c9050c50e520  \n4     d2122a89-2eef-43e0-b8f8-44d399c04498  \n...                                    ...  \n3449  1c07bad0-288d-456d-a307-09e90d608845  \n3450  fdacc075-cd02-40e5-a8a7-c443192562f6  \n3451  c4f22c48-9d7b-4b15-940e-bfcb55497b4a  \n3452  4e86c213-2ed5-40fd-9edf-c9b2a8f229f0  \n3453  374918c3-832c-4bca-86bc-ec7a99c111cc  \n\n[3454 rows x 9 columns]",
      "text/html": "<div>\n<style scoped>\n    .dataframe tbody tr th:only-of-type {\n        vertical-align: middle;\n    }\n\n    .dataframe tbody tr th {\n        vertical-align: top;\n    }\n\n    .dataframe thead th {\n        text-align: right;\n    }\n</style>\n<table border=\"1\" class=\"dataframe\">\n  <thead>\n    <tr style=\"text-align: right;\">\n      <th></th>\n      <th>Created</th>\n      <th>Date</th>\n      <th>Touchpoint</th>\n      <th>Rating</th>\n      <th>Verbatim</th>\n      <th>Preferred Bank</th>\n      <th>Product</th>\n      <th>Feedback</th>\n      <th>ID</th>\n    </tr>\n  </thead>\n  <tbody>\n    <tr>\n      <th>0</th>\n      <td>8/27/2020 4:42:25 PM</td>\n      <td>8/27/2020 16:42:24</td>\n      <td>&amp;lt;item&amp;gt;Branch&amp;lt;/item&amp;gt;</td>\n      <td>7</td>\n      <td>Talian careline susah dijawab, harus diperbaiki</td>\n      <td>RHB</td>\n      <td>CASA</td>\n      <td>Careline lines are difficult to answer, should...</td>\n      <td>bedba74e-1c23-4772-9ca9-6bf81bd1b27f</td>\n    </tr>\n    <tr>\n      <th>1</th>\n      <td>8/27/2020 5:22:49 PM</td>\n      <td>8/27/2020 17:22:33</td>\n      <td>&amp;lt;item&amp;gt;ATM, Cash Deposit Machines&amp;lt;/ite...</td>\n      <td>6</td>\n      <td>Tiada Atm atau RHB di Jasin Melaka</td>\n      <td>Maybank</td>\n      <td>CASA</td>\n      <td>No ATM or RHB in Jasin Melaka</td>\n      <td>e170ee8d-1287-4f22-b597-c1f2d2b3e2cc</td>\n    </tr>\n    <tr>\n      <th>2</th>\n      <td>8/27/2020 5:50:18 PM</td>\n      <td>8/27/2020 17:50:17</td>\n      <td>&amp;lt;item&amp;gt;RHB Mobile Banking Application&amp;lt;...</td>\n      <td>6</td>\n      <td>Up grade your APPS</td>\n      <td>Affin Bank CIMB</td>\n      <td>CASA</td>\n      <td>Up Grade Your Apps</td>\n      <td>feb9fc8d-15c3-407b-961a-e1f09677f3d0</td>\n    </tr>\n    <tr>\n      <th>3</th>\n      <td>8/27/2020 8:12:22 PM</td>\n      <td>8/27/2020 20:12:19</td>\n      <td>&amp;lt;item&amp;gt;Branch&amp;lt;/item&amp;gt;&amp;lt;item&amp;gt;ATM...</td>\n      <td>10</td>\n      <td>Mengekalkan perkhidmatan seperti sekarang dan ...</td>\n      <td>Rhb bank di petaling jaya ss2.</td>\n      <td>CASA</td>\n      <td>Maintaining Services Like Now and Gift Somethi...</td>\n      <td>22990519-8eb0-4a16-9e07-c9050c50e520</td>\n    </tr>\n    <tr>\n      <th>4</th>\n      <td>8/27/2020 8:14:38 PM</td>\n      <td>8/27/2020 20:14:36</td>\n      <td>&amp;lt;item&amp;gt;RHB Internet Banking&amp;lt;/item&amp;gt;</td>\n      <td>5</td>\n      <td>hope can improve MOBILE app factions or link b...</td>\n      <td>ocbc pub</td>\n      <td>CASA</td>\n      <td>HOPE CAN IMPROVE MOBILE APP FACTIONS OR LINK B...</td>\n      <td>d2122a89-2eef-43e0-b8f8-44d399c04498</td>\n    </tr>\n    <tr>\n      <th>...</th>\n      <td>...</td>\n      <td>...</td>\n      <td>...</td>\n      <td>...</td>\n      <td>...</td>\n      <td>...</td>\n      <td>...</td>\n      <td>...</td>\n      <td>...</td>\n    </tr>\n    <tr>\n      <th>3449</th>\n      <td>2/9/21 12:53</td>\n      <td>2/9/21 12:53</td>\n      <td>&amp;lt;item&amp;gt;Branch&amp;lt;/item&amp;gt;&amp;lt;item&amp;gt;Cal...</td>\n      <td>6</td>\n      <td>branch staff have to be responsive on phone ca...</td>\n      <td>Maybank</td>\n      <td>CASA</td>\n      <td>BRANCH STAFF HAVE TO BE RESPONSIVE ON PHONE CA...</td>\n      <td>1c07bad0-288d-456d-a307-09e90d608845</td>\n    </tr>\n    <tr>\n      <th>3450</th>\n      <td>2/9/21 0:39</td>\n      <td>2/9/21 0:39</td>\n      <td>&amp;lt;item&amp;gt;RHB Internet Banking&amp;lt;/item&amp;gt;</td>\n      <td>0</td>\n      <td>customer.service@rhbgroup.com and customer.adv...</td>\n      <td>Definitely not RHB</td>\n      <td>Mortgage</td>\n      <td>Customer.Service@rhbgroup.com and customer.adv...</td>\n      <td>fdacc075-cd02-40e5-a8a7-c443192562f6</td>\n    </tr>\n    <tr>\n      <th>3451</th>\n      <td>2/9/21 16:46</td>\n      <td>2/9/21 16:46</td>\n      <td>&amp;lt;item&amp;gt;RHB Internet Banking&amp;lt;/item&amp;gt;</td>\n      <td>7</td>\n      <td>Higher interest rate at times when rakyat need...</td>\n      <td>Public Bank</td>\n      <td>FD</td>\n      <td>Higher Interest Rate at Times WHEN PEOPLE NEED...</td>\n      <td>c4f22c48-9d7b-4b15-940e-bfcb55497b4a</td>\n    </tr>\n    <tr>\n      <th>3452</th>\n      <td>3/9/21 19:49</td>\n      <td>3/9/21 19:49</td>\n      <td>&amp;lt;item&amp;gt;Branch&amp;lt;/item&amp;gt;&amp;lt;item&amp;gt;Cal...</td>\n      <td>7</td>\n      <td>Card does not support 36 months instalment zer...</td>\n      <td>Maybank and public bank for local bank HSBC fo...</td>\n      <td>Credit Card</td>\n      <td>Card Does Not Support 36 Months Installment Ze...</td>\n      <td>4e86c213-2ed5-40fd-9edf-c9b2a8f229f0</td>\n    </tr>\n    <tr>\n      <th>3453</th>\n      <td>7/9/21 11:47</td>\n      <td>7/9/21 11:46</td>\n      <td>&amp;lt;item&amp;gt;Branch&amp;lt;/item&amp;gt;&amp;lt;item&amp;gt;Cal...</td>\n      <td>0</td>\n      <td>Reply or return call to customer inquiry. Repl...</td>\n      <td>PBB, HLB, UOB, SCB except RHB</td>\n      <td>Credit Card</td>\n      <td>Reply or Return Call to Customer Inquiry. Repl...</td>\n      <td>374918c3-832c-4bca-86bc-ec7a99c111cc</td>\n    </tr>\n  </tbody>\n</table>\n<p>3454 rows × 9 columns</p>\n</div>"
     },
     "execution_count": 8,
     "metadata": {},
     "output_type": "execute_result"
    }
   ],
   "source": [
    "import gspread\n",
    "from oauth2client.service_account import ServiceAccountCredentials\n",
    "import pandas as pd\n",
    "scope = [\"https://spreadsheets.google.com/feeds\",'https://www.googleapis.com/auth/spreadsheets','https://www.googleapis.com/auth/drive.file','https://www.googleapis.com/auth/drive']\n",
    "credentials = ServiceAccountCredentials.from_json_keyfile_name(\"rhb-project-339208-947e7de8b753.json\", scope)\n",
    "client= gspread.authorize(credentials)\n",
    "sheet = client.open(\"Feedback Sheet Translated\").sheet1\n",
    "data = sheet.get_all_records()\n",
    "feedback_data = pd.DataFrame(data)\n",
    "feedback_data"
   ],
   "metadata": {
    "collapsed": false,
    "pycharm": {
     "name": "#%% Setting up GCP Google Drive API\n"
    }
   }
  },
  {
   "cell_type": "code",
   "execution_count": 21,
   "id": "10983f84-5ccb-45ae-9b15-0093e41c6891",
   "metadata": {},
   "outputs": [
    {
     "name": "stderr",
     "output_type": "stream",
     "text": [
      "[nltk_data] Downloading package wordnet to\n",
      "[nltk_data]     /Users/brendanlee/nltk_data...\n",
      "[nltk_data]   Package wordnet is already up-to-date!\n",
      "[nltk_data] Downloading package punkt to\n",
      "[nltk_data]     /Users/brendanlee/nltk_data...\n",
      "[nltk_data]   Package punkt is already up-to-date!\n",
      "[nltk_data] Downloading package stopwords to\n",
      "[nltk_data]     /Users/brendanlee/nltk_data...\n",
      "[nltk_data]   Package stopwords is already up-to-date!\n",
      "[nltk_data] Downloading package omw-1.4 to\n",
      "[nltk_data]     /Users/brendanlee/nltk_data...\n",
      "[nltk_data]   Unzipping corpora/omw-1.4.zip.\n"
     ]
    },
    {
     "data": {
      "text/plain": "True"
     },
     "execution_count": 21,
     "metadata": {},
     "output_type": "execute_result"
    }
   ],
   "source": [
    "import nltk\n",
    "nltk.download('wordnet')\n",
    "nltk.download('punkt')\n",
    "nltk.download('stopwords')\n",
    "nltk.download('omw-1.4')"
   ]
  },
  {
   "cell_type": "code",
   "execution_count": 22,
   "id": "04b5de76-dd85-4edf-9f1d-0e207f600dd5",
   "metadata": {},
   "outputs": [],
   "source": [
    "import pandas as pd\n",
    "import re\n",
    "\n",
    "from nltk.corpus import stopwords\n",
    "from nltk.tokenize import word_tokenize\n",
    "from nltk.stem import WordNetLemmatizer\n",
    " \n",
    "lemmatizer = WordNetLemmatizer()\n",
    "\n",
    "def preprocessing(text):\n",
    "    extract_except = '[^A-Za-z ]+'\n",
    "    text = re.sub(extract_except,\" \",text)\n",
    "    text = (text.lower()).replace('\\t\\n',\" \") \n",
    "    # tokenizing\n",
    "    token_text = [lemmatizer.lemmatize(word, pos = 'n')\n",
    "                  for word in word_tokenize(text)\n",
    "                  if not word in stopwords.words()]\n",
    "\n",
    "    return token_text"
   ]
  },
  {
   "cell_type": "code",
   "execution_count": null,
   "outputs": [],
   "source": [],
   "metadata": {
    "collapsed": false,
    "pycharm": {
     "name": "#%% Filtering out feedback with less than 5 words\n"
    }
   }
  },
  {
   "cell_type": "code",
   "execution_count": 24,
   "outputs": [],
   "source": [
    "id_feedback = feedback_data[['ID', 'Feedback']]\n",
    "id_touchpoint = feedback_data[['ID', 'Touchpoint']]\n"
   ],
   "metadata": {
    "collapsed": false,
    "pycharm": {
     "name": "#%%\n"
    }
   }
  },
  {
   "cell_type": "code",
   "execution_count": 26,
   "id": "4dd1176a-3c4e-4a1b-8e92-ccb511328de2",
   "metadata": {},
   "outputs": [],
   "source": [
    "lemmatized_sentences = []\n",
    "for sentence in feedback_data['Feedback']:\n",
    "    lemmatized_sentence = preprocessing(str(sentence))\n",
    "    lemmatized_sentences.append(\" \".join(lemmatized_sentence))\n",
    "    "
   ]
  },
  {
   "cell_type": "code",
   "execution_count": 27,
   "id": "e83bfeeb-dc78-440f-b1b2-d329a668ab2b",
   "metadata": {},
   "outputs": [],
   "source": [
    "feedback_words = pd.DataFrame(lemmatized_sentences, columns = [\"Feedback Words\"])\n",
    "feedback_words.to_csv(\"Feedback_sheet_2.csv\")\n"
   ]
  },
  {
   "cell_type": "code",
   "execution_count": 28,
   "id": "d695982a-f67b-45ff-a74c-c50ab7dbfdc8",
   "metadata": {},
   "outputs": [
    {
     "data": {
      "text/plain": "                                        ID  \\\n0     bedba74e-1c23-4772-9ca9-6bf81bd1b27f   \n1     e170ee8d-1287-4f22-b597-c1f2d2b3e2cc   \n2     feb9fc8d-15c3-407b-961a-e1f09677f3d0   \n3     22990519-8eb0-4a16-9e07-c9050c50e520   \n4     d2122a89-2eef-43e0-b8f8-44d399c04498   \n...                                    ...   \n3449  1c07bad0-288d-456d-a307-09e90d608845   \n3450  fdacc075-cd02-40e5-a8a7-c443192562f6   \n3451  c4f22c48-9d7b-4b15-940e-bfcb55497b4a   \n3452  4e86c213-2ed5-40fd-9edf-c9b2a8f229f0   \n3453  374918c3-832c-4bca-86bc-ec7a99c111cc   \n\n                                             Touchpoint  \n0                       &lt;item&gt;Branch&lt;/item&gt;  \n1     &lt;item&gt;ATM, Cash Deposit Machines&lt;/ite...  \n2     &lt;item&gt;RHB Mobile Banking Application&lt;...  \n3     &lt;item&gt;Branch&lt;/item&gt;&lt;item&gt;ATM...  \n4         &lt;item&gt;RHB Internet Banking&lt;/item&gt;  \n...                                                 ...  \n3449  &lt;item&gt;Branch&lt;/item&gt;&lt;item&gt;Cal...  \n3450      &lt;item&gt;RHB Internet Banking&lt;/item&gt;  \n3451      &lt;item&gt;RHB Internet Banking&lt;/item&gt;  \n3452  &lt;item&gt;Branch&lt;/item&gt;&lt;item&gt;Cal...  \n3453  &lt;item&gt;Branch&lt;/item&gt;&lt;item&gt;Cal...  \n\n[3454 rows x 2 columns]",
      "text/html": "<div>\n<style scoped>\n    .dataframe tbody tr th:only-of-type {\n        vertical-align: middle;\n    }\n\n    .dataframe tbody tr th {\n        vertical-align: top;\n    }\n\n    .dataframe thead th {\n        text-align: right;\n    }\n</style>\n<table border=\"1\" class=\"dataframe\">\n  <thead>\n    <tr style=\"text-align: right;\">\n      <th></th>\n      <th>ID</th>\n      <th>Touchpoint</th>\n    </tr>\n  </thead>\n  <tbody>\n    <tr>\n      <th>0</th>\n      <td>bedba74e-1c23-4772-9ca9-6bf81bd1b27f</td>\n      <td>&amp;lt;item&amp;gt;Branch&amp;lt;/item&amp;gt;</td>\n    </tr>\n    <tr>\n      <th>1</th>\n      <td>e170ee8d-1287-4f22-b597-c1f2d2b3e2cc</td>\n      <td>&amp;lt;item&amp;gt;ATM, Cash Deposit Machines&amp;lt;/ite...</td>\n    </tr>\n    <tr>\n      <th>2</th>\n      <td>feb9fc8d-15c3-407b-961a-e1f09677f3d0</td>\n      <td>&amp;lt;item&amp;gt;RHB Mobile Banking Application&amp;lt;...</td>\n    </tr>\n    <tr>\n      <th>3</th>\n      <td>22990519-8eb0-4a16-9e07-c9050c50e520</td>\n      <td>&amp;lt;item&amp;gt;Branch&amp;lt;/item&amp;gt;&amp;lt;item&amp;gt;ATM...</td>\n    </tr>\n    <tr>\n      <th>4</th>\n      <td>d2122a89-2eef-43e0-b8f8-44d399c04498</td>\n      <td>&amp;lt;item&amp;gt;RHB Internet Banking&amp;lt;/item&amp;gt;</td>\n    </tr>\n    <tr>\n      <th>...</th>\n      <td>...</td>\n      <td>...</td>\n    </tr>\n    <tr>\n      <th>3449</th>\n      <td>1c07bad0-288d-456d-a307-09e90d608845</td>\n      <td>&amp;lt;item&amp;gt;Branch&amp;lt;/item&amp;gt;&amp;lt;item&amp;gt;Cal...</td>\n    </tr>\n    <tr>\n      <th>3450</th>\n      <td>fdacc075-cd02-40e5-a8a7-c443192562f6</td>\n      <td>&amp;lt;item&amp;gt;RHB Internet Banking&amp;lt;/item&amp;gt;</td>\n    </tr>\n    <tr>\n      <th>3451</th>\n      <td>c4f22c48-9d7b-4b15-940e-bfcb55497b4a</td>\n      <td>&amp;lt;item&amp;gt;RHB Internet Banking&amp;lt;/item&amp;gt;</td>\n    </tr>\n    <tr>\n      <th>3452</th>\n      <td>4e86c213-2ed5-40fd-9edf-c9b2a8f229f0</td>\n      <td>&amp;lt;item&amp;gt;Branch&amp;lt;/item&amp;gt;&amp;lt;item&amp;gt;Cal...</td>\n    </tr>\n    <tr>\n      <th>3453</th>\n      <td>374918c3-832c-4bca-86bc-ec7a99c111cc</td>\n      <td>&amp;lt;item&amp;gt;Branch&amp;lt;/item&amp;gt;&amp;lt;item&amp;gt;Cal...</td>\n    </tr>\n  </tbody>\n</table>\n<p>3454 rows × 2 columns</p>\n</div>"
     },
     "execution_count": 28,
     "metadata": {},
     "output_type": "execute_result"
    }
   ],
   "source": [
    "id_touchpoint\n",
    "# Cross check different fields\n",
    "# Google Translate API in Google Sheets\n",
    "# Looks back for the survey"
   ]
  },
  {
   "cell_type": "code",
   "execution_count": 29,
   "id": "32f56a02-9483-46ad-b3aa-47791a60bd16",
   "metadata": {},
   "outputs": [],
   "source": [
    "all_customer_touchpoints = []\n",
    "for touchpoint in id_touchpoint['Touchpoint']:\n",
    "    split_touchpoint = touchpoint.split(';')[2:]\n",
    "    resulting_touchpoint = []\n",
    "    for item in split_touchpoint:\n",
    "        if item not in ['item&gt','/item&gt', '&lt', '', '']:\n",
    "            item = item.replace('&lt','')\n",
    "            resulting_touchpoint.append(item)\n",
    "    all_customer_touchpoints.append(resulting_touchpoint)\n",
    "        \n"
   ]
  },
  {
   "cell_type": "code",
   "execution_count": 30,
   "id": "6e0061bd-6342-4e4b-970c-44a164f60904",
   "metadata": {},
   "outputs": [
    {
     "data": {
      "text/plain": "     Social media Call centre Branch RHB Internet Banking  \\\n0              No          No    Yes                   No   \n1              No          No     No                   No   \n2              No          No     No                   No   \n3              No          No    Yes                   No   \n4              No          No     No                  Yes   \n...           ...         ...    ...                  ...   \n3449           No         Yes    Yes                  Yes   \n3450           No          No     No                  Yes   \n3451           No          No     No                  Yes   \n3452           No         Yes    Yes                   No   \n3453           No         Yes    Yes                  Yes   \n\n     RHB Mobile Banking Application Relationship managers / Personal Bankers  \\\n0                                No                                       No   \n1                                No                                       No   \n2                               Yes                                       No   \n3                                No                                       No   \n4                                No                                       No   \n...                             ...                                      ...   \n3449                             No                                       No   \n3450                             No                                       No   \n3451                             No                                       No   \n3452                             No                                       No   \n3453                             No                                       No   \n\n     ATM, Cash Deposit Machines  \\\n0                            No   \n1                           Yes   \n2                           Yes   \n3                           Yes   \n4                            No   \n...                         ...   \n3449                         No   \n3450                         No   \n3451                         No   \n3452                         No   \n3453                         No   \n\n                                               Feedback  Rating  \n0                  careline line difficult answer fixed       7  \n1                                  atm rhb jasin melaka       6  \n2                                            grade apps       6  \n3     maintaining service like gift something good u...      10  \n4     hope improve mobile app faction link branch ac...       5  \n...                                                 ...     ...  \n3449           branch staff responsive phone call email       6  \n3450  customer service rhbgroup customer advocacy rh...       0  \n3451              higher interest rate time people need       7  \n3452  card support month installment zero interest p...       7  \n3453  reply return call customer inquiry reply email...       0  \n\n[3454 rows x 9 columns]",
      "text/html": "<div>\n<style scoped>\n    .dataframe tbody tr th:only-of-type {\n        vertical-align: middle;\n    }\n\n    .dataframe tbody tr th {\n        vertical-align: top;\n    }\n\n    .dataframe thead th {\n        text-align: right;\n    }\n</style>\n<table border=\"1\" class=\"dataframe\">\n  <thead>\n    <tr style=\"text-align: right;\">\n      <th></th>\n      <th>Social media</th>\n      <th>Call centre</th>\n      <th>Branch</th>\n      <th>RHB Internet Banking</th>\n      <th>RHB Mobile Banking Application</th>\n      <th>Relationship managers / Personal Bankers</th>\n      <th>ATM, Cash Deposit Machines</th>\n      <th>Feedback</th>\n      <th>Rating</th>\n    </tr>\n  </thead>\n  <tbody>\n    <tr>\n      <th>0</th>\n      <td>No</td>\n      <td>No</td>\n      <td>Yes</td>\n      <td>No</td>\n      <td>No</td>\n      <td>No</td>\n      <td>No</td>\n      <td>careline line difficult answer fixed</td>\n      <td>7</td>\n    </tr>\n    <tr>\n      <th>1</th>\n      <td>No</td>\n      <td>No</td>\n      <td>No</td>\n      <td>No</td>\n      <td>No</td>\n      <td>No</td>\n      <td>Yes</td>\n      <td>atm rhb jasin melaka</td>\n      <td>6</td>\n    </tr>\n    <tr>\n      <th>2</th>\n      <td>No</td>\n      <td>No</td>\n      <td>No</td>\n      <td>No</td>\n      <td>Yes</td>\n      <td>No</td>\n      <td>Yes</td>\n      <td>grade apps</td>\n      <td>6</td>\n    </tr>\n    <tr>\n      <th>3</th>\n      <td>No</td>\n      <td>No</td>\n      <td>Yes</td>\n      <td>No</td>\n      <td>No</td>\n      <td>No</td>\n      <td>Yes</td>\n      <td>maintaining service like gift something good u...</td>\n      <td>10</td>\n    </tr>\n    <tr>\n      <th>4</th>\n      <td>No</td>\n      <td>No</td>\n      <td>No</td>\n      <td>Yes</td>\n      <td>No</td>\n      <td>No</td>\n      <td>No</td>\n      <td>hope improve mobile app faction link branch ac...</td>\n      <td>5</td>\n    </tr>\n    <tr>\n      <th>...</th>\n      <td>...</td>\n      <td>...</td>\n      <td>...</td>\n      <td>...</td>\n      <td>...</td>\n      <td>...</td>\n      <td>...</td>\n      <td>...</td>\n      <td>...</td>\n    </tr>\n    <tr>\n      <th>3449</th>\n      <td>No</td>\n      <td>Yes</td>\n      <td>Yes</td>\n      <td>Yes</td>\n      <td>No</td>\n      <td>No</td>\n      <td>No</td>\n      <td>branch staff responsive phone call email</td>\n      <td>6</td>\n    </tr>\n    <tr>\n      <th>3450</th>\n      <td>No</td>\n      <td>No</td>\n      <td>No</td>\n      <td>Yes</td>\n      <td>No</td>\n      <td>No</td>\n      <td>No</td>\n      <td>customer service rhbgroup customer advocacy rh...</td>\n      <td>0</td>\n    </tr>\n    <tr>\n      <th>3451</th>\n      <td>No</td>\n      <td>No</td>\n      <td>No</td>\n      <td>Yes</td>\n      <td>No</td>\n      <td>No</td>\n      <td>No</td>\n      <td>higher interest rate time people need</td>\n      <td>7</td>\n    </tr>\n    <tr>\n      <th>3452</th>\n      <td>No</td>\n      <td>Yes</td>\n      <td>Yes</td>\n      <td>No</td>\n      <td>No</td>\n      <td>No</td>\n      <td>No</td>\n      <td>card support month installment zero interest p...</td>\n      <td>7</td>\n    </tr>\n    <tr>\n      <th>3453</th>\n      <td>No</td>\n      <td>Yes</td>\n      <td>Yes</td>\n      <td>Yes</td>\n      <td>No</td>\n      <td>No</td>\n      <td>No</td>\n      <td>reply return call customer inquiry reply email...</td>\n      <td>0</td>\n    </tr>\n  </tbody>\n</table>\n<p>3454 rows × 9 columns</p>\n</div>"
     },
     "execution_count": 30,
     "metadata": {},
     "output_type": "execute_result"
    }
   ],
   "source": [
    "def classify(all_customer_touchpoints):\n",
    "    all_touchpoint_binary_class = []\n",
    "    # [Counts, Positive, Negative]\n",
    "    type_of_service = {\"Human-based services\":0, \"Digital services\":0, \"Infrastructure\":0}\n",
    "    for customer_touchpoint in all_customer_touchpoints:\n",
    "        touchpoint_binary_class = [\"No\", \"No\", \"No\", \"No\", \"No\", \"No\", \"No\"]\n",
    "        for touchpoint in customer_touchpoint:\n",
    "\n",
    "            if touchpoint == 'Social media':\n",
    "                touchpoint_binary_class[0] = \"Yes\"\n",
    "                type_of_service[\"Digital services\"] += 1 \n",
    "                continue\n",
    "            elif touchpoint == 'Call centre':\n",
    "                touchpoint_binary_class[1] = \"Yes\"\n",
    "                type_of_service[\"Human-based services\"] += 1 \n",
    "                continue\n",
    "            elif touchpoint == 'Branch':\n",
    "                touchpoint_binary_class[2] = \"Yes\"\n",
    "                type_of_service[\"Infrastructure\"]+= 1 \n",
    "                continue \n",
    "            elif touchpoint == 'RHB Internet Banking':\n",
    "                touchpoint_binary_class[3] = \"Yes\"\n",
    "                type_of_service[\"Digital services\"] += 1 \n",
    "                continue    \n",
    "            elif touchpoint == 'RHB Mobile Banking Application':\n",
    "                touchpoint_binary_class[4] = \"Yes\"\n",
    "                type_of_service[\"Digital services\"] += 1 \n",
    "                continue\n",
    "            elif touchpoint == 'Relationship managers / Personal Bankers':\n",
    "                touchpoint_binary_class[5] = \"Yes\"\n",
    "                type_of_service[\"Human-based services\"] += 1 \n",
    "                continue\n",
    "            elif touchpoint == 'ATM, Cash Deposit Machines':\n",
    "                touchpoint_binary_class[6] = \"Yes\"\n",
    "                type_of_service[\"Infrastructure\"] += 1 \n",
    "                continue\n",
    "\n",
    "        all_touchpoint_binary_class.append(touchpoint_binary_class)\n",
    "\n",
    "    return all_touchpoint_binary_class, type_of_service\n",
    "\n",
    "pd.DataFrame(all_customer_touchpoints)\n",
    "touchpoint_list = [\"Social media\", \"Call centre\", \"Branch\", \"RHB Internet Banking\", \"RHB Mobile Banking Application\", \"Relationship managers / Personal Bankers\", 'ATM, Cash Deposit Machines']\n",
    "touchpoint_df = pd.DataFrame(columns = touchpoint_list)\n",
    "touchpoint_df \n",
    "\n",
    "all_touchpoint_binary_class, type_of_service = classify(all_customer_touchpoints)\n",
    "Main_df = pd.DataFrame(all_touchpoint_binary_class, columns =touchpoint_list, dtype = str)\n",
    "Main_df[\"Feedback\"] = feedback_words\n",
    "Main_df[\"Rating\"] = feedback_data['Rating']\n",
    "Main_df"
   ]
  },
  {
   "cell_type": "code",
   "execution_count": null,
   "outputs": [],
   "source": [
    "Main_df.to_csv(\"cleaned_dataset.csv\")\n",
    "print(type_of_service)"
   ],
   "metadata": {
    "collapsed": false,
    "pycharm": {
     "name": "#%%\n"
    }
   }
  },
  {
   "cell_type": "code",
   "execution_count": 33,
   "id": "b4d2c3ed-86a5-468e-b986-dbec85f3a52a",
   "metadata": {},
   "outputs": [],
   "source": [
    "from sklearn.feature_extraction.text import TfidfTransformer\n",
    "from numpy import dot\n",
    "from numpy.linalg import norm\n",
    "import math"
   ]
  },
  {
   "cell_type": "code",
   "execution_count": 34,
   "id": "22b9352a-7416-407f-a1fd-56510006419b",
   "metadata": {},
   "outputs": [
    {
     "data": {
      "text/plain": "                   Created                Date  \\\n0     8/27/2020 4:42:25 PM  8/27/2020 16:42:24   \n1     8/27/2020 5:22:49 PM  8/27/2020 17:22:33   \n2     8/27/2020 5:50:18 PM  8/27/2020 17:50:17   \n3     8/27/2020 8:12:22 PM  8/27/2020 20:12:19   \n4     8/27/2020 8:14:38 PM  8/27/2020 20:14:36   \n...                    ...                 ...   \n3449          2/9/21 12:53        2/9/21 12:53   \n3450           2/9/21 0:39         2/9/21 0:39   \n3451          2/9/21 16:46        2/9/21 16:46   \n3452          3/9/21 19:49        3/9/21 19:49   \n3453          7/9/21 11:47        7/9/21 11:46   \n\n                                             Touchpoint  Rating  \\\n0                       &lt;item&gt;Branch&lt;/item&gt;       7   \n1     &lt;item&gt;ATM, Cash Deposit Machines&lt;/ite...       6   \n2     &lt;item&gt;RHB Mobile Banking Application&lt;...       6   \n3     &lt;item&gt;Branch&lt;/item&gt;&lt;item&gt;ATM...      10   \n4         &lt;item&gt;RHB Internet Banking&lt;/item&gt;       5   \n...                                                 ...     ...   \n3449  &lt;item&gt;Branch&lt;/item&gt;&lt;item&gt;Cal...       6   \n3450      &lt;item&gt;RHB Internet Banking&lt;/item&gt;       0   \n3451      &lt;item&gt;RHB Internet Banking&lt;/item&gt;       7   \n3452  &lt;item&gt;Branch&lt;/item&gt;&lt;item&gt;Cal...       7   \n3453  &lt;item&gt;Branch&lt;/item&gt;&lt;item&gt;Cal...       0   \n\n                                               Verbatim  \\\n0       Talian careline susah dijawab, harus diperbaiki   \n1                    Tiada Atm atau RHB di Jasin Melaka   \n2                                    Up grade your APPS   \n3     Mengekalkan perkhidmatan seperti sekarang dan ...   \n4     hope can improve MOBILE app factions or link b...   \n...                                                 ...   \n3449  branch staff have to be responsive on phone ca...   \n3450  customer.service@rhbgroup.com and customer.adv...   \n3451  Higher interest rate at times when rakyat need...   \n3452  Card does not support 36 months instalment zer...   \n3453  Reply or return call to customer inquiry. Repl...   \n\n                                         Preferred Bank      Product  \\\n0                                                   RHB         CASA   \n1                                               Maybank         CASA   \n2                                      Affin Bank CIMB          CASA   \n3                        Rhb bank di petaling jaya ss2.         CASA   \n4                                             ocbc pub          CASA   \n...                                                 ...          ...   \n3449                                            Maybank         CASA   \n3450                                 Definitely not RHB     Mortgage   \n3451                                        Public Bank           FD   \n3452  Maybank and public bank for local bank HSBC fo...  Credit Card   \n3453                      PBB, HLB, UOB, SCB except RHB  Credit Card   \n\n                                               Feedback  \\\n0     Careline lines are difficult to answer, should...   \n1                         No ATM or RHB in Jasin Melaka   \n2                                    Up Grade Your Apps   \n3     Maintaining Services Like Now and Gift Somethi...   \n4     HOPE CAN IMPROVE MOBILE APP FACTIONS OR LINK B...   \n...                                                 ...   \n3449  BRANCH STAFF HAVE TO BE RESPONSIVE ON PHONE CA...   \n3450  Customer.Service@rhbgroup.com and customer.adv...   \n3451  Higher Interest Rate at Times WHEN PEOPLE NEED...   \n3452  Card Does Not Support 36 Months Installment Ze...   \n3453  Reply or Return Call to Customer Inquiry. Repl...   \n\n                                        ID  \n0     bedba74e-1c23-4772-9ca9-6bf81bd1b27f  \n1     e170ee8d-1287-4f22-b597-c1f2d2b3e2cc  \n2     feb9fc8d-15c3-407b-961a-e1f09677f3d0  \n3     22990519-8eb0-4a16-9e07-c9050c50e520  \n4     d2122a89-2eef-43e0-b8f8-44d399c04498  \n...                                    ...  \n3449  1c07bad0-288d-456d-a307-09e90d608845  \n3450  fdacc075-cd02-40e5-a8a7-c443192562f6  \n3451  c4f22c48-9d7b-4b15-940e-bfcb55497b4a  \n3452  4e86c213-2ed5-40fd-9edf-c9b2a8f229f0  \n3453  374918c3-832c-4bca-86bc-ec7a99c111cc  \n\n[3454 rows x 9 columns]",
      "text/html": "<div>\n<style scoped>\n    .dataframe tbody tr th:only-of-type {\n        vertical-align: middle;\n    }\n\n    .dataframe tbody tr th {\n        vertical-align: top;\n    }\n\n    .dataframe thead th {\n        text-align: right;\n    }\n</style>\n<table border=\"1\" class=\"dataframe\">\n  <thead>\n    <tr style=\"text-align: right;\">\n      <th></th>\n      <th>Created</th>\n      <th>Date</th>\n      <th>Touchpoint</th>\n      <th>Rating</th>\n      <th>Verbatim</th>\n      <th>Preferred Bank</th>\n      <th>Product</th>\n      <th>Feedback</th>\n      <th>ID</th>\n    </tr>\n  </thead>\n  <tbody>\n    <tr>\n      <th>0</th>\n      <td>8/27/2020 4:42:25 PM</td>\n      <td>8/27/2020 16:42:24</td>\n      <td>&amp;lt;item&amp;gt;Branch&amp;lt;/item&amp;gt;</td>\n      <td>7</td>\n      <td>Talian careline susah dijawab, harus diperbaiki</td>\n      <td>RHB</td>\n      <td>CASA</td>\n      <td>Careline lines are difficult to answer, should...</td>\n      <td>bedba74e-1c23-4772-9ca9-6bf81bd1b27f</td>\n    </tr>\n    <tr>\n      <th>1</th>\n      <td>8/27/2020 5:22:49 PM</td>\n      <td>8/27/2020 17:22:33</td>\n      <td>&amp;lt;item&amp;gt;ATM, Cash Deposit Machines&amp;lt;/ite...</td>\n      <td>6</td>\n      <td>Tiada Atm atau RHB di Jasin Melaka</td>\n      <td>Maybank</td>\n      <td>CASA</td>\n      <td>No ATM or RHB in Jasin Melaka</td>\n      <td>e170ee8d-1287-4f22-b597-c1f2d2b3e2cc</td>\n    </tr>\n    <tr>\n      <th>2</th>\n      <td>8/27/2020 5:50:18 PM</td>\n      <td>8/27/2020 17:50:17</td>\n      <td>&amp;lt;item&amp;gt;RHB Mobile Banking Application&amp;lt;...</td>\n      <td>6</td>\n      <td>Up grade your APPS</td>\n      <td>Affin Bank CIMB</td>\n      <td>CASA</td>\n      <td>Up Grade Your Apps</td>\n      <td>feb9fc8d-15c3-407b-961a-e1f09677f3d0</td>\n    </tr>\n    <tr>\n      <th>3</th>\n      <td>8/27/2020 8:12:22 PM</td>\n      <td>8/27/2020 20:12:19</td>\n      <td>&amp;lt;item&amp;gt;Branch&amp;lt;/item&amp;gt;&amp;lt;item&amp;gt;ATM...</td>\n      <td>10</td>\n      <td>Mengekalkan perkhidmatan seperti sekarang dan ...</td>\n      <td>Rhb bank di petaling jaya ss2.</td>\n      <td>CASA</td>\n      <td>Maintaining Services Like Now and Gift Somethi...</td>\n      <td>22990519-8eb0-4a16-9e07-c9050c50e520</td>\n    </tr>\n    <tr>\n      <th>4</th>\n      <td>8/27/2020 8:14:38 PM</td>\n      <td>8/27/2020 20:14:36</td>\n      <td>&amp;lt;item&amp;gt;RHB Internet Banking&amp;lt;/item&amp;gt;</td>\n      <td>5</td>\n      <td>hope can improve MOBILE app factions or link b...</td>\n      <td>ocbc pub</td>\n      <td>CASA</td>\n      <td>HOPE CAN IMPROVE MOBILE APP FACTIONS OR LINK B...</td>\n      <td>d2122a89-2eef-43e0-b8f8-44d399c04498</td>\n    </tr>\n    <tr>\n      <th>...</th>\n      <td>...</td>\n      <td>...</td>\n      <td>...</td>\n      <td>...</td>\n      <td>...</td>\n      <td>...</td>\n      <td>...</td>\n      <td>...</td>\n      <td>...</td>\n    </tr>\n    <tr>\n      <th>3449</th>\n      <td>2/9/21 12:53</td>\n      <td>2/9/21 12:53</td>\n      <td>&amp;lt;item&amp;gt;Branch&amp;lt;/item&amp;gt;&amp;lt;item&amp;gt;Cal...</td>\n      <td>6</td>\n      <td>branch staff have to be responsive on phone ca...</td>\n      <td>Maybank</td>\n      <td>CASA</td>\n      <td>BRANCH STAFF HAVE TO BE RESPONSIVE ON PHONE CA...</td>\n      <td>1c07bad0-288d-456d-a307-09e90d608845</td>\n    </tr>\n    <tr>\n      <th>3450</th>\n      <td>2/9/21 0:39</td>\n      <td>2/9/21 0:39</td>\n      <td>&amp;lt;item&amp;gt;RHB Internet Banking&amp;lt;/item&amp;gt;</td>\n      <td>0</td>\n      <td>customer.service@rhbgroup.com and customer.adv...</td>\n      <td>Definitely not RHB</td>\n      <td>Mortgage</td>\n      <td>Customer.Service@rhbgroup.com and customer.adv...</td>\n      <td>fdacc075-cd02-40e5-a8a7-c443192562f6</td>\n    </tr>\n    <tr>\n      <th>3451</th>\n      <td>2/9/21 16:46</td>\n      <td>2/9/21 16:46</td>\n      <td>&amp;lt;item&amp;gt;RHB Internet Banking&amp;lt;/item&amp;gt;</td>\n      <td>7</td>\n      <td>Higher interest rate at times when rakyat need...</td>\n      <td>Public Bank</td>\n      <td>FD</td>\n      <td>Higher Interest Rate at Times WHEN PEOPLE NEED...</td>\n      <td>c4f22c48-9d7b-4b15-940e-bfcb55497b4a</td>\n    </tr>\n    <tr>\n      <th>3452</th>\n      <td>3/9/21 19:49</td>\n      <td>3/9/21 19:49</td>\n      <td>&amp;lt;item&amp;gt;Branch&amp;lt;/item&amp;gt;&amp;lt;item&amp;gt;Cal...</td>\n      <td>7</td>\n      <td>Card does not support 36 months instalment zer...</td>\n      <td>Maybank and public bank for local bank HSBC fo...</td>\n      <td>Credit Card</td>\n      <td>Card Does Not Support 36 Months Installment Ze...</td>\n      <td>4e86c213-2ed5-40fd-9edf-c9b2a8f229f0</td>\n    </tr>\n    <tr>\n      <th>3453</th>\n      <td>7/9/21 11:47</td>\n      <td>7/9/21 11:46</td>\n      <td>&amp;lt;item&amp;gt;Branch&amp;lt;/item&amp;gt;&amp;lt;item&amp;gt;Cal...</td>\n      <td>0</td>\n      <td>Reply or return call to customer inquiry. Repl...</td>\n      <td>PBB, HLB, UOB, SCB except RHB</td>\n      <td>Credit Card</td>\n      <td>Reply or Return Call to Customer Inquiry. Repl...</td>\n      <td>374918c3-832c-4bca-86bc-ec7a99c111cc</td>\n    </tr>\n  </tbody>\n</table>\n<p>3454 rows × 9 columns</p>\n</div>"
     },
     "execution_count": 34,
     "metadata": {},
     "output_type": "execute_result"
    }
   ],
   "source": [
    "feedback_data"
   ]
  },
  {
   "cell_type": "code",
   "execution_count": 35,
   "id": "ac26c21c-646c-4ea2-a0d7-9a230feffb89",
   "metadata": {},
   "outputs": [
    {
     "data": {
      "text/plain": "{'uob': 45,\n 'affin': 29,\n 'cimb': 407,\n 'hsbc': 98,\n 'bnm': 2,\n 'bsn': 24,\n 'ocbc': 51,\n 'maybank': 1086,\n 'public': 319,\n 'ambank': 73,\n 'rakyat': 72,\n 'alliance': 21,\n 'citibank': 57,\n 'chartered': 28,\n 'islam': 118,\n 'rhb': 1670,\n 'leong': 139,\n 'mbsb': 5,\n 'muamalat': 11,\n 'agrobank': 1}"
     },
     "execution_count": 35,
     "metadata": {},
     "output_type": "execute_result"
    }
   ],
   "source": [
    "list_of_banks = {\"uob\": 0,\n",
    "                 \"affin\": 0, \n",
    "                 \"cimb\": 0,\n",
    "                 \"hsbc\": 0,\n",
    "                 \"bnm\": 0,\n",
    "                 \"bsn\": 0,\n",
    "                 \"ocbc\": 0,\n",
    "                 \"maybank\": 0,\n",
    "                 \"public\": 0,\n",
    "                 \"ambank\": 0,\n",
    "                 \"rakyat\": 0,\n",
    "                 \"alliance\": 0,\n",
    "                 \"citibank\": 0,\n",
    "                 \"chartered\": 0,\n",
    "                 \"islam\": 0,\n",
    "                 \"rhb\": 0,\n",
    "                 \"leong\": 0,\n",
    "                 \"mbsb\": 0,\n",
    "                 \"muamalat\": 0,\n",
    "                 \"agrobank\": 0\n",
    "                }\n",
    "\n",
    "preffered_bank = pd.DataFrame() \n",
    "\n",
    "preffered_bank[\"Preferred Bank\"] = feedback_data['Preferred Bank']\n",
    "tokenized_preffered_bank = []\n",
    "\n",
    "for bank in feedback_data['Preferred Bank']:\n",
    "    tokenized_bank = preprocessing(str(bank))\n",
    "    \n",
    "    for bank in tokenized_bank:\n",
    "        if bank in list_of_banks:\n",
    "            list_of_banks[bank]+=1\n",
    "            \n",
    "list_of_banks\n",
    "\n",
    "\n",
    "    \n",
    "    \n",
    "    \n",
    "    \n",
    "    \n",
    "    "
   ]
  },
  {
   "cell_type": "code",
   "execution_count": 36,
   "id": "7d82b938-2da6-450f-bd54-72402d632e2d",
   "metadata": {},
   "outputs": [],
   "source": [
    "Bank_hashmap = pd.DataFrame(list_of_banks.items(), columns = [\"Bank\", \"Count\"])\n",
    "Bank_hashmap.to_csv(\"preffered_bank_count.csv\")"
   ]
  },
  {
   "cell_type": "code",
   "execution_count": 36,
   "id": "10b5a51b-8897-43af-8539-26b25af5b75f",
   "metadata": {},
   "outputs": [],
   "source": [
    "\n",
    "        "
   ]
  },
  {
   "cell_type": "code",
   "execution_count": null,
   "id": "c9026646-4a15-4157-acbb-e8bcd1a0b053",
   "metadata": {},
   "outputs": [],
   "source": []
  },
  {
   "cell_type": "code",
   "execution_count": null,
   "outputs": [],
   "source": [],
   "metadata": {
    "collapsed": false,
    "pycharm": {
     "name": "#%%\n"
    }
   }
  }
 ],
 "metadata": {
  "kernelspec": {
   "display_name": "Python 3",
   "language": "python",
   "name": "python3"
  },
  "language_info": {
   "codemirror_mode": {
    "name": "ipython",
    "version": 3
   },
   "file_extension": ".py",
   "mimetype": "text/x-python",
   "name": "python",
   "nbconvert_exporter": "python",
   "pygments_lexer": "ipython3",
   "version": "3.8.8"
  }
 },
 "nbformat": 4,
 "nbformat_minor": 5
}